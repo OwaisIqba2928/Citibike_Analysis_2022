{
 "cells": [
  {
   "cell_type": "markdown",
   "id": "6ada65cf-09c4-4eb0-9d93-0ccd3de9e6bf",
   "metadata": {},
   "source": [
    "# 📌 Step 1: Import Required Libraries 📌"
   ]
  },
  {
   "cell_type": "code",
   "execution_count": 12,
   "id": "66dd5108-1afb-4e88-8675-8fca046e8d91",
   "metadata": {},
   "outputs": [],
   "source": [
    "\n",
    "import pandas as pd\n",
    "import os\n",
    "import requests\n",
    "\n",
    "# Set display options for better visualization\n",
    "pd.set_option('display.max_columns', None)"
   ]
  },
  {
   "cell_type": "markdown",
   "id": "f789a38a-300c-4807-a9f1-124631d53239",
   "metadata": {},
   "source": [
    "# 📌 Step 2: Define Folder Path & Check Files 📌"
   ]
  },
  {
   "cell_type": "code",
   "execution_count": 13,
   "id": "0fcbfc47-6a79-4263-bf32-5da43644439f",
   "metadata": {},
   "outputs": [
    {
     "name": "stdout",
     "output_type": "stream",
     "text": [
      "✅ Folder path exists. Proceeding with file reading...\n"
     ]
    }
   ],
   "source": [
    "# 📌 Step 2: Define Folder Path & Check Files 📌\n",
    "\n",
    "# Define the accurate folder path where all CSV files are stored\n",
    "folder_path = r\"C:\\Users\\Asus\\Music\\CitiBike_2022_Data\\2022-citibike-tripdata\\202201-citibike-tripdata\"\n",
    "\n",
    "# Check if the folder exists\n",
    "if not os.path.exists(folder_path):\n",
    "    print(\"❌ Error: The specified folder path does not exist.\")\n",
    "else:\n",
    "    print(\"✅ Folder path exists. Proceeding with file reading...\")"
   ]
  },
  {
   "cell_type": "markdown",
   "id": "b945485b-5416-4b2e-85bb-16ce5f76bd47",
   "metadata": {},
   "source": [
    "# 📌 Step 3: Read and Merge All Monthly Data Files 📌"
   ]
  },
  {
   "cell_type": "code",
   "execution_count": 14,
   "id": "f0db9f2c-2659-4529-aec9-db00f164c261",
   "metadata": {},
   "outputs": [
    {
     "name": "stdout",
     "output_type": "stream",
     "text": [
      "📂 Reading file: C:\\Users\\Asus\\Music\\CitiBike_2022_Data\\2022-citibike-tripdata\\202201-citibike-tripdata\\202201-citibike-tripdata_1.csv\n",
      "📂 Reading file: C:\\Users\\Asus\\Music\\CitiBike_2022_Data\\2022-citibike-tripdata\\202201-citibike-tripdata\\202201-citibike-tripdata_2.csv\n",
      "\n",
      "✅ Successfully loaded the data!\n",
      "            ride_id  rideable_type               started_at  \\\n",
      "0  BFD29218AB271154  electric_bike  2022-01-21 13:13:43.392   \n",
      "1  7C953F2FD7BE1302   classic_bike  2022-01-10 11:30:54.162   \n",
      "2  95893ABD40CED4B8  electric_bike  2022-01-26 10:52:43.096   \n",
      "3  F853B50772137378   classic_bike  2022-01-03 08:35:48.247   \n",
      "4  7590ADF834797B4B   classic_bike  2022-01-22 14:14:23.043   \n",
      "\n",
      "                  ended_at       start_station_name start_station_id  \\\n",
      "0  2022-01-21 13:22:31.463  West End Ave & W 107 St          7650.05   \n",
      "1  2022-01-10 11:41:43.422             4 Ave & 3 St          4028.04   \n",
      "2  2022-01-26 11:06:35.227          1 Ave & E 62 St          6753.08   \n",
      "3  2022-01-03 09:10:50.475          2 Ave & E 96 St          7338.02   \n",
      "4  2022-01-22 14:34:57.474          6 Ave & W 34 St          6364.10   \n",
      "\n",
      "              end_station_name end_station_id  start_lat  start_lng  \\\n",
      "0  Mt Morris Park W & W 120 St        7685.14  40.802117 -73.968181   \n",
      "1      Boerum Pl\\t& Pacific St        4488.09  40.673746 -73.985649   \n",
      "2              5 Ave & E 29 St        6248.06  40.761227 -73.960940   \n",
      "3              5 Ave & E 29 St        6248.06  40.783964 -73.947167   \n",
      "4              5 Ave & E 29 St        6248.06  40.749640 -73.988050   \n",
      "\n",
      "     end_lat    end_lng member_casual  \n",
      "0  40.804038 -73.945925        member  \n",
      "1  40.688489 -73.991160        member  \n",
      "2  40.745168 -73.986831        member  \n",
      "3  40.745168 -73.986831        member  \n",
      "4  40.745168 -73.986831        member  \n"
     ]
    }
   ],
   "source": [
    "# Create an empty list to store dataframes\n",
    "df_list = []\n",
    "\n",
    "# Loop through each file in the folder and read it into a dataframe\n",
    "for file in os.listdir(folder_path):\n",
    "    if file.endswith(\".csv\"):  # Ensure we're only reading CSV files\n",
    "        file_path = os.path.join(folder_path, file)\n",
    "        print(f\"📂 Reading file: {file_path}\")  # Debugging statement\n",
    "        \n",
    "        # Read CSV with low_memory=False to prevent dtype warning\n",
    "        df = pd.read_csv(file_path, low_memory=False)\n",
    "        \n",
    "        # Append to the list\n",
    "        df_list.append(df)\n",
    "\n",
    "# Check if any CSV files were read before concatenating\n",
    "if df_list:\n",
    "    # Concatenate all CSV data into a single dataframe\n",
    "    all_data = pd.concat(df_list, ignore_index=True)\n",
    "    \n",
    "    # Display the first few rows\n",
    "    print(\"\\n✅ Successfully loaded the data!\")\n",
    "    print(all_data.head())\n",
    "else:\n",
    "    print(\"\\n⚠ No CSV files found in the specified folder.\")"
   ]
  },
  {
   "cell_type": "markdown",
   "id": "60db4324-8ab8-4833-aa92-c9fd0ccfb343",
   "metadata": {},
   "source": [
    "# 📌 Step 4: Save the Merged CitiBike Data 📌"
   ]
  },
  {
   "cell_type": "code",
   "execution_count": 15,
   "id": "0ac19dc2-401f-41bf-941a-06ac5ae33b20",
   "metadata": {},
   "outputs": [
    {
     "name": "stdout",
     "output_type": "stream",
     "text": [
      "✅ Merged CitiBike data saved as 'citibike_merged.csv'!\n"
     ]
    }
   ],
   "source": [
    "# Save the merged CitiBike data for reference\n",
    "all_data.to_csv(\"citibike_merged.csv\", index=False)\n",
    "print(\"✅ Merged CitiBike data saved as 'citibike_merged.csv'!\")\n"
   ]
  },
  {
   "cell_type": "markdown",
   "id": "6c4f2738-d15c-4aeb-b944-03f6c1efb35b",
   "metadata": {},
   "source": [
    "# 📌 Step 5: Get Weather Data for 2022 📌"
   ]
  },
  {
   "cell_type": "code",
   "execution_count": 16,
   "id": "6522915f-60fd-4e96-8b48-43d68ae358e3",
   "metadata": {},
   "outputs": [
    {
     "name": "stdout",
     "output_type": "stream",
     "text": [
      "✅ Weather data saved as 'weather_2022.csv'!\n"
     ]
    }
   ],
   "source": [
    "# NOAA API token\n",
    "token = \"IjlRiTQPicwBnfVgePvsmZGuSVzbRxZa\"\n",
    "headers = {\"token\": token}\n",
    "\n",
    "# Define the API URL and parameters\n",
    "url = \"https://www.ncei.noaa.gov/access/services/data/v1\"\n",
    "params = {\n",
    "    \"dataset\": \"daily-summaries\",\n",
    "    \"stations\": \"USW00094728\",  # LaGuardia Airport\n",
    "    \"startDate\": \"2022-01-01\",\n",
    "    \"endDate\": \"2022-12-31\",\n",
    "    \"dataTypes\": \"TMAX,TMIN,PRCP\",\n",
    "    \"format\": \"csv\"\n",
    "}\n",
    "\n",
    "# Send the request to the NOAA API\n",
    "response = requests.get(url, headers=headers, params=params)\n",
    "\n",
    "# Save the response content to a CSV file\n",
    "weather_file = \"weather_2022.csv\"\n",
    "with open(weather_file, \"wb\") as f:\n",
    "    f.write(response.content)\n",
    "\n",
    "print(f\"✅ Weather data saved as '{weather_file}'!\")"
   ]
  },
  {
   "cell_type": "markdown",
   "id": "3c789a9f-c64b-4983-8054-abcfabef5308",
   "metadata": {},
   "source": [
    "# 📌 Step 6: Merge CitiBike Data with Weather Data 📌"
   ]
  },
  {
   "cell_type": "code",
   "execution_count": 17,
   "id": "a1b88bfa-0d44-4b87-9029-2d32f1956f18",
   "metadata": {},
   "outputs": [
    {
     "name": "stdout",
     "output_type": "stream",
     "text": [
      "✅ Merged CitiBike & Weather data saved as 'merged_citibike_weather.csv'!\n"
     ]
    }
   ],
   "source": [
    "# Load the weather data\n",
    "weather = pd.read_csv(\"weather_2022.csv\")\n",
    "\n",
    "# Ensure 'DATE' column in weather is in datetime format\n",
    "weather['DATE'] = pd.to_datetime(weather['DATE'])\n",
    "\n",
    "# 🛠 Fix the \"NameError: name 'all_data' is not defined\" issue by ensuring all_data exists\n",
    "if 'all_data' in globals():\n",
    "    # Ensure 'started_at' in all_data is converted to datetime\n",
    "    all_data['start_date'] = pd.to_datetime(all_data['started_at']).dt.normalize()\n",
    "\n",
    "    # Merge the datasets on the date\n",
    "    merged_data = pd.merge(\n",
    "        all_data,\n",
    "        weather,\n",
    "        left_on='start_date',\n",
    "        right_on='DATE',\n",
    "        how='left'\n",
    "    )\n",
    "\n",
    "    # Save the merged dataset\n",
    "    merged_data.to_csv(\"merged_citibike_weather.csv\", index=False)\n",
    "    print(\"✅ Merged CitiBike & Weather data saved as 'merged_citibike_weather.csv'!\")\n",
    "else:\n",
    "    print(\"❌ Error: 'all_data' is not defined. Ensure the CitiBike data is loaded properly.\")\n"
   ]
  },
  {
   "cell_type": "code",
   "execution_count": null,
   "id": "8eac2601-58ab-4cde-8249-7c417148faee",
   "metadata": {},
   "outputs": [],
   "source": []
  }
 ],
 "metadata": {
  "kernelspec": {
   "display_name": "20th Century Environment",
   "language": "python",
   "name": "20th_century"
  },
  "language_info": {
   "codemirror_mode": {
    "name": "ipython",
    "version": 3
   },
   "file_extension": ".py",
   "mimetype": "text/x-python",
   "name": "python",
   "nbconvert_exporter": "python",
   "pygments_lexer": "ipython3",
   "version": "3.12.7"
  }
 },
 "nbformat": 4,
 "nbformat_minor": 5
}
